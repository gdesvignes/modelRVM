{
 "cells": [
  {
   "cell_type": "code",
   "execution_count": null,
   "metadata": {
    "collapsed": false
   },
   "outputs": [],
   "source": [
    "%matplotlib inline\n",
    "import numpy as np\n",
    "import sys\n",
    "import corner"
   ]
  },
  {
   "cell_type": "code",
   "execution_count": null,
   "metadata": {
    "collapsed": false
   },
   "outputs": [],
   "source": [
    "data = np.loadtxt(\"/home/desvignes/projets/1906/new_data/results/omega-fixed/chains-post_equal_weights.dat\", usecols=(0,1,2,3,17))\n"
   ]
  },
  {
   "cell_type": "code",
   "execution_count": null,
   "metadata": {
    "collapsed": false,
    "scrolled": false
   },
   "outputs": [],
   "source": [
    "figure = corner.corner(data, labels=[r\"$\\alpha$\", r\"$\\zeta$\", r\"$\\phi_0$\", r\"$\\psi_0$\", r\"$i$\"], \n",
    "                         bins=64,\n",
    "                         quantiles=[0.16, 0.5, 0.84],\n",
    "                         #quantiles=[0.023, 0.5, 0.977],\n",
    "                         show_titles=True, title_args={\"fontsize\": 12},\n",
    "                      plot_datapoints=False, levels=1.0 - np.exp(-0.5 * np.arange(1, 3.1, 1.) ** 2)\n",
    "                      )"
   ]
  },
  {
   "cell_type": "code",
   "execution_count": null,
   "metadata": {
    "collapsed": true
   },
   "outputs": [],
   "source": [
    "#figure.savefig('1257-RVM.pdf', format='pdf')"
   ]
  },
  {
   "cell_type": "code",
   "execution_count": null,
   "metadata": {
    "collapsed": true
   },
   "outputs": [],
   "source": []
  }
 ],
 "metadata": {
  "kernelspec": {
   "display_name": "Python 2",
   "language": "python",
   "name": "python2"
  },
  "language_info": {
   "codemirror_mode": {
    "name": "ipython",
    "version": 2
   },
   "file_extension": ".py",
   "mimetype": "text/x-python",
   "name": "python",
   "nbconvert_exporter": "python",
   "pygments_lexer": "ipython2",
   "version": "2.7.12"
  }
 },
 "nbformat": 4,
 "nbformat_minor": 0
}
