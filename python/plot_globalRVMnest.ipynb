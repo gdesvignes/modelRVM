{
 "cells": [
  {
   "cell_type": "code",
   "execution_count": 1,
   "metadata": {
    "collapsed": false
   },
   "outputs": [],
   "source": [
    "%matplotlib inline\n",
    "import numpy as np\n",
    "import sys\n",
    "import corner\n",
    "import pylab as plt"
   ]
  },
  {
   "cell_type": "code",
   "execution_count": 2,
   "metadata": {
    "collapsed": false
   },
   "outputs": [],
   "source": [
    "path = \"/home/desvignes/projets/1906/new_data/results/inc-180/results-inc-om-fixed/\"\n",
    "data = np.loadtxt(path+\"/chains-post_equal_weights.dat\", usecols=(0,1,2,3,4))\n"
   ]
  },
  {
   "cell_type": "code",
   "execution_count": null,
   "metadata": {
    "collapsed": false,
    "scrolled": true
   },
   "outputs": [],
   "source": [
    "#figure = corner.corner(data, labels=[r\"$\\alpha$\", r\"$\\delta$\", r\"$\\phi_0$\", r\"$\\psi_{00}$\", r\"$\\Omega$\"],\n",
    "#                        quantiles=[0.16, 0.5, 0.84], bins=75, plot_datapoints=False,\n",
    "#                        show_titles=True, label_kwargs={\"fontsize\": 14},\n",
    "#                       levels=1.0 - np.exp(-0.5 * np.arange(1, 3.1, 1.) ** 2),\n",
    "#                       hist2d_kwargs={\"fontsize\": 14}#\n",
    "#                        #levels=np.array([0.682689492137086, 0.954499736103642, 0.997300203936740])\n",
    "#                                          )\n",
    "\n",
    "figure = corner.corner(data, labels=[r\"$\\alpha$\", r\"$\\delta$\", r\"$\\Phi_0$\", r\"$\\psi_{00}$\", r\"$\\phi_0$\", r\"$\\phi_1$\", r\"$\\phi_{13}$\"], \n",
    "                         #quantiles=[0.16, 0.5, 0.84],\n",
    "                         show_titles=False, title_args={\"fontsize\": 12},\n",
    "                          bins=64, plot_datapoints=False, levels=1.0 - np.exp(-0.5 * np.arange(1, 3.1, 1.) ** 2))\n",
    "\n",
    "args = {}\n",
    "args['fontsize'] = 14\n",
    "\n",
    "#figure = corner.corner(data, labels=[r\"$\\alpha$\", r\"$\\delta$\", r\"$\\Phi_0$\", r\"$\\psi_{00}$\"], \n",
    "#                         #quantiles=[0.16, 0.5, 0.84],\n",
    "#                         show_titles=False, title_args={\"fontsize\": 12},\n",
    "#                           range=[(98.7,99.8), (50,130), (215,315), (-50,70)],\n",
    "#                          bins=96, plot_datapoints=False, levels=1.0 - np.exp(-0.5 * np.arange(1, 3.1, 1.) ** 2),\n",
    "#                         label_kwargs=args)\n",
    "\n",
    "#figure = triangle.corner(data, labels=[r\"$\\alpha$\", r\"$\\delta$\", r\"$\\phi_0$\", r\"$\\psi_{00}$\", r\"$\\Omega$\"],\n",
    "#                         quantiles=[0.16, 0.5, 0.84],\n",
    "#                        show_titles=True, title_args={\"fontsize\": 12})"
   ]
  },
  {
   "cell_type": "code",
   "execution_count": 11,
   "metadata": {
    "collapsed": false
   },
   "outputs": [],
   "source": [
    "figure.savefig('globalRVMnest.eps', format='eps')"
   ]
  },
  {
   "cell_type": "code",
   "execution_count": null,
   "metadata": {
    "collapsed": true
   },
   "outputs": [],
   "source": []
  },
  {
   "cell_type": "code",
   "execution_count": null,
   "metadata": {
    "collapsed": false
   },
   "outputs": [],
   "source": [
    "import read_TN\n",
    "read_TN.makesubplot2d(data[:,4], data[:,5], bins=184, xlab=r\"Precession rate, $\\Omega$ (deg yr^${-1}$)\", ylab=\"Inclination angle, $i$ (deg)\")\n",
    "plt.xlim(0,5)\n",
    "plt.ylim(45,100)\n",
    "plt.show()"
   ]
  },
  {
   "cell_type": "code",
   "execution_count": null,
   "metadata": {
    "collapsed": true
   },
   "outputs": [],
   "source": []
  }
 ],
 "metadata": {
  "kernelspec": {
   "display_name": "Python 2",
   "language": "python",
   "name": "python2"
  },
  "language_info": {
   "codemirror_mode": {
    "name": "ipython",
    "version": 2
   },
   "file_extension": ".py",
   "mimetype": "text/x-python",
   "name": "python",
   "nbconvert_exporter": "python",
   "pygments_lexer": "ipython2",
   "version": "2.7.12"
  }
 },
 "nbformat": 4,
 "nbformat_minor": 0
}
