{
 "cells": [
  {
   "cell_type": "code",
   "execution_count": 1,
   "metadata": {},
   "outputs": [],
   "source": [
    "import numpy as np\n",
    "import os\n",
    "from pylab import *\n",
    "#import read_TN\n",
    "from tqdm import tqdm_notebook,tqdm\n",
    "nbins = 128\n",
    "\n",
    "import matplotlib as mpl\n",
    "label_size = 12\n",
    "mpl.rcParams['xtick.labelsize'] = label_size\n",
    "mpl.rcParams['ytick.labelsize'] = label_size "
   ]
  },
  {
   "cell_type": "code",
   "execution_count": 2,
   "metadata": {
    "scrolled": false
   },
   "outputs": [
    {
     "name": "stderr",
     "output_type": "stream",
     "text": [
      "Reading data:   0%|          | 0/20 [00:00<?, ?it/s]/afs/ipp-garching.mpg.de/common/soft/anaconda/amd64_generic/3/5.3.0/lib/python3.7/site-packages/ipykernel_launcher.py:88: VisibleDeprecationWarning: Passing `normed=True` on non-uniform bins has always been broken, and computes neither the probability density function nor the probability mass function. The result is only correct if the bins are uniform, when density=True will produce the same result anyway. The argument will be removed in a future version of numpy.\n",
      "/afs/ipp-garching.mpg.de/common/soft/anaconda/amd64_generic/3/5.3.0/lib/python3.7/site-packages/ipykernel_launcher.py:90: VisibleDeprecationWarning: Passing `normed=True` on non-uniform bins has always been broken, and computes neither the probability density function nor the probability mass function. The result is only correct if the bins are uniform, when density=True will produce the same result anyway. The argument will be removed in a future version of numpy.\n",
      "/afs/ipp-garching.mpg.de/common/soft/anaconda/amd64_generic/3/5.3.0/lib/python3.7/site-packages/ipykernel_launcher.py:92: VisibleDeprecationWarning: Passing `normed=True` on non-uniform bins has always been broken, and computes neither the probability density function nor the probability mass function. The result is only correct if the bins are uniform, when density=True will produce the same result anyway. The argument will be removed in a future version of numpy.\n",
      "/afs/ipp-garching.mpg.de/common/soft/anaconda/amd64_generic/3/5.3.0/lib/python3.7/site-packages/ipykernel_launcher.py:94: VisibleDeprecationWarning: Passing `normed=True` on non-uniform bins has always been broken, and computes neither the probability density function nor the probability mass function. The result is only correct if the bins are uniform, when density=True will produce the same result anyway. The argument will be removed in a future version of numpy.\n",
      "Reading data:   5%|▌         | 1/20 [00:01<00:29,  1.57s/it]"
     ]
    },
    {
     "name": "stdout",
     "output_type": "stream",
     "text": [
      "[-87.66660257 -87.05099063 -86.72292317 ... -87.38403799 -86.10072282\n",
      " -86.99820569]\n"
     ]
    },
    {
     "name": "stderr",
     "output_type": "stream",
     "text": [
      "\r",
      "Reading data:  10%|█         | 2/20 [00:02<00:23,  1.33s/it]"
     ]
    },
    {
     "name": "stdout",
     "output_type": "stream",
     "text": [
      "[-85.28090822 -85.01100743 -85.17156477 ... -85.89385008 -87.04884546\n",
      " -85.95769889]\n"
     ]
    },
    {
     "name": "stderr",
     "output_type": "stream",
     "text": [
      "\r",
      "Reading data:  15%|█▌        | 3/20 [00:03<00:19,  1.15s/it]"
     ]
    },
    {
     "name": "stdout",
     "output_type": "stream",
     "text": [
      "[-54.08910346 -54.6069847  -54.14475887 ... -54.13645782 -54.06761245\n",
      " -53.98225753]\n"
     ]
    },
    {
     "name": "stderr",
     "output_type": "stream",
     "text": [
      "\r",
      "Reading data:  20%|██        | 4/20 [00:03<00:16,  1.05s/it]"
     ]
    },
    {
     "name": "stdout",
     "output_type": "stream",
     "text": [
      "[-82.94517591 -84.0394498  -84.19500357 ... -82.62759752 -83.13863242\n",
      " -83.04595788]\n"
     ]
    },
    {
     "name": "stderr",
     "output_type": "stream",
     "text": [
      "\r",
      "Reading data:  25%|██▌       | 5/20 [00:04<00:14,  1.04it/s]"
     ]
    },
    {
     "name": "stdout",
     "output_type": "stream",
     "text": [
      "[-56.70122399 -57.92652842 -57.95764793 ... -57.19378405 -57.7732903\n",
      " -57.29852604]\n"
     ]
    },
    {
     "name": "stderr",
     "output_type": "stream",
     "text": [
      "\r",
      "Reading data:  30%|███       | 6/20 [00:05<00:14,  1.03s/it]"
     ]
    },
    {
     "name": "stdout",
     "output_type": "stream",
     "text": [
      "[-53.97111741 -53.56290402 -53.63224685 ... -54.36032743 -53.99243005\n",
      " -53.05028271]\n"
     ]
    },
    {
     "name": "stderr",
     "output_type": "stream",
     "text": [
      "\r",
      "Reading data:  35%|███▌      | 7/20 [00:07<00:14,  1.12s/it]"
     ]
    },
    {
     "name": "stdout",
     "output_type": "stream",
     "text": [
      "[-52.07303823 -52.33646972 -51.94018703 ... -52.21442251 -52.14811313\n",
      " -52.28735042]\n"
     ]
    },
    {
     "name": "stderr",
     "output_type": "stream",
     "text": [
      "\r",
      "Reading data:  40%|████      | 8/20 [00:08<00:14,  1.20s/it]"
     ]
    },
    {
     "name": "stdout",
     "output_type": "stream",
     "text": [
      "[-82.54594914 -82.24505147 -82.17113957 ... -82.79019449 -82.85223043\n",
      " -83.99256707]\n"
     ]
    },
    {
     "name": "stderr",
     "output_type": "stream",
     "text": [
      "\r",
      "Reading data:  45%|████▌     | 9/20 [00:09<00:12,  1.14s/it]"
     ]
    },
    {
     "name": "stdout",
     "output_type": "stream",
     "text": [
      "[-83.36131195 -82.70797583 -83.20625056 ... -83.06440216 -83.11687178\n",
      " -82.89388266]\n"
     ]
    },
    {
     "name": "stderr",
     "output_type": "stream",
     "text": [
      "\r",
      "Reading data:  50%|█████     | 10/20 [00:10<00:11,  1.12s/it]"
     ]
    },
    {
     "name": "stdout",
     "output_type": "stream",
     "text": [
      "[-52.60889327 -52.80439108 -53.23746714 ... -52.18564416 -51.40378479\n",
      " -52.28641874]\n"
     ]
    },
    {
     "name": "stderr",
     "output_type": "stream",
     "text": [
      "\r",
      "Reading data:  55%|█████▌    | 11/20 [00:11<00:09,  1.11s/it]"
     ]
    },
    {
     "name": "stdout",
     "output_type": "stream",
     "text": [
      "[-55.80135432 -55.47296538 -57.43715432 ... -55.76023051 -55.70004278\n",
      " -55.66074426]\n"
     ]
    },
    {
     "name": "stderr",
     "output_type": "stream",
     "text": [
      "\r",
      "Reading data:  60%|██████    | 12/20 [00:12<00:08,  1.08s/it]"
     ]
    },
    {
     "name": "stdout",
     "output_type": "stream",
     "text": [
      "[-82.30179638 -82.47963017 -83.76169266 ... -84.44193429 -84.0364821\n",
      " -84.52508076]\n"
     ]
    },
    {
     "name": "stderr",
     "output_type": "stream",
     "text": [
      "\r",
      "Reading data:  65%|██████▌   | 13/20 [00:14<00:09,  1.34s/it]"
     ]
    },
    {
     "name": "stdout",
     "output_type": "stream",
     "text": [
      "[-64.28292608 -61.0616052  -61.82067111 ... -62.10498852 -62.41948244\n",
      " -61.69325486]\n"
     ]
    },
    {
     "name": "stderr",
     "output_type": "stream",
     "text": [
      "\r",
      "Reading data:  70%|███████   | 14/20 [00:15<00:07,  1.20s/it]"
     ]
    },
    {
     "name": "stdout",
     "output_type": "stream",
     "text": [
      "[-58.34623099 -59.78461203 -58.24632168 ... -57.57289724 -57.67105981\n",
      " -58.72568306]\n"
     ]
    },
    {
     "name": "stderr",
     "output_type": "stream",
     "text": [
      "\r",
      "Reading data:  75%|███████▌  | 15/20 [00:16<00:05,  1.20s/it]"
     ]
    },
    {
     "name": "stdout",
     "output_type": "stream",
     "text": [
      "[-55.6117556  -55.83671942 -55.60808833 ... -55.85130789 -55.83654543\n",
      " -55.94657822]\n"
     ]
    },
    {
     "name": "stderr",
     "output_type": "stream",
     "text": [
      "\r",
      "Reading data:  80%|████████  | 16/20 [00:17<00:04,  1.16s/it]"
     ]
    },
    {
     "name": "stdout",
     "output_type": "stream",
     "text": [
      "[-84.87350834 -84.06505762 -85.39896074 ... -85.43015874 -85.09518936\n",
      " -85.15915095]\n"
     ]
    },
    {
     "name": "stderr",
     "output_type": "stream",
     "text": [
      "\r",
      "Reading data:  85%|████████▌ | 17/20 [00:19<00:03,  1.20s/it]"
     ]
    },
    {
     "name": "stdout",
     "output_type": "stream",
     "text": [
      "[-80.80227774 -83.15656104 -80.85897842 ... -82.19277874 -82.46018154\n",
      " -82.76023217]\n"
     ]
    },
    {
     "name": "stderr",
     "output_type": "stream",
     "text": [
      "\r",
      "Reading data:  90%|█████████ | 18/20 [00:20<00:02,  1.18s/it]"
     ]
    },
    {
     "name": "stdout",
     "output_type": "stream",
     "text": [
      "[-84.47108582 -82.64947086 -82.19224116 ... -83.48184189 -85.77579407\n",
      " -84.52484891]\n"
     ]
    },
    {
     "name": "stderr",
     "output_type": "stream",
     "text": [
      "\r",
      "Reading data:  95%|█████████▌| 19/20 [00:21<00:01,  1.14s/it]"
     ]
    },
    {
     "name": "stdout",
     "output_type": "stream",
     "text": [
      "[-50.76860313 -51.35500627 -51.6369166  ... -51.11149969 -51.02860113\n",
      " -51.21174068]\n"
     ]
    },
    {
     "name": "stderr",
     "output_type": "stream",
     "text": [
      "\r",
      "Reading data: 100%|██████████| 20/20 [00:22<00:00,  1.10s/it]"
     ]
    },
    {
     "name": "stdout",
     "output_type": "stream",
     "text": [
      "[-56.98576853 -59.16475172 -58.55161154 ... -55.60310102 -55.78620384\n",
      " -55.65362428]\n"
     ]
    },
    {
     "name": "stderr",
     "output_type": "stream",
     "text": [
      "\n"
     ]
    }
   ],
   "source": [
    "alpha_b = np.zeros(nbins)\n",
    "delta_b = np.zeros(nbins)\n",
    "phi_b = np.zeros(nbins)\n",
    "psi_b = np.zeros(nbins)\n",
    "om_b = np.zeros(nbins)\n",
    "inc_b = np.zeros(nbins)\n",
    "jump_b = np.zeros(nbins)\n",
    "phi0s_b = np.zeros(nbins)\n",
    "\n",
    "a_d_2d = np.zeros((nbins,nbins))\n",
    "a_p_2d = np.zeros((nbins,nbins))\n",
    "a_z_2d = np.zeros((nbins,nbins))\n",
    "a_o_2d = np.zeros((nbins,nbins))\n",
    "a_i_2d = np.zeros((nbins,nbins))\n",
    "a_j_2d = np.zeros((nbins,nbins))\n",
    "\n",
    "d_p_2d = np.zeros((nbins,nbins))\n",
    "d_z_2d = np.zeros((nbins,nbins))\n",
    "d_o_2d = np.zeros((nbins,nbins))\n",
    "d_i_2d = np.zeros((nbins,nbins))\n",
    "d_j_2d = np.zeros((nbins,nbins))\n",
    "\n",
    "p_z_2d = np.zeros((nbins,nbins))\n",
    "p_o_2d = np.zeros((nbins,nbins))\n",
    "p_i_2d = np.zeros((nbins,nbins))\n",
    "p_j_2d = np.zeros((nbins,nbins))\n",
    "\n",
    "z_o_2d = np.zeros((nbins,nbins))\n",
    "z_i_2d = np.zeros((nbins,nbins))\n",
    "z_j_2d = np.zeros((nbins,nbins))\n",
    "\n",
    "o_i_2d = np.zeros((nbins,nbins))\n",
    "o_j_2d = np.zeros((nbins,nbins))\n",
    "\n",
    "i_j_2d = np.zeros((nbins,nbins))\n",
    "\n",
    "a_r = (98.6,100.2)\n",
    "d_r = (60,150)\n",
    "p_r = (210, 290)\n",
    "z_r = (-90,90)\n",
    "o_r = (1.5,3.)\n",
    "i_r = (25.,70.)\n",
    "j_r = (78,110)\n",
    "\n",
    "bins = []\n",
    "for i in range(7): bins.append([])\n",
    "\n",
    "phi0s_b = []\n",
    "for i in range(48): phi0s_b.append(np.zeros(nbins))\n",
    "\n",
    "#for i in range(0,2000):\n",
    "for i in tqdm(range(0,20), desc='Reading data'):\n",
    "    #print i\n",
    "    #fn = \"/Users/gdesvignes/projets/1906/new_data/results/1906-bootstrap/B%d/results-inc-fixed/chains-post_equal_weights.dat\"%i\n",
    "    #fn = \"/hercules/results/gdesvign/1906-bootstrap2/B%d/results/chainsMN-post_equal_weights.dat\"%i\n",
    "    #fn = \"/hercules/results/gdesvign/new_1906/bootstrap_excluded/B%d/results/chainsMN-post_equal_weights.dat\"%i\n",
    "    #fn = \"/hercules/results/gdesvign/paper_1906/mix_oldBON_ASP_PUPPI-jump/B%d/results/chainsPC_equal_weights.txt\"%i\n",
    "    #fn = \"/hercules/results/gdesvign/paper_1906/bootstrap2/B%d/results/chainsPC_equal_weights.txt\"%i\n",
    "    fn = \"/hercules/results/gdesvign/paper_1906/bootstrap/B%d/results/chainsPC_equal_weights.txt\"%i\n",
    "    #fn = \"/hercules/results/gdesvign/paper_1906/bootstrap3/B%d/results-aberr/chainsPC_equal_weights.txt\"%i\n",
    "    #fn = \"/hercules/results/gdesvign/paper_1906/mix_oldBON_ASP_PUPPI-aberr//B%d/results/chainsPC_equal_weights.txt\"%i\n",
    "    if not os.path.exists(fn): \n",
    "        print (fn, \" does not exist\")\n",
    "        continue\n",
    "    # Read the file\n",
    "    try: ### for 28 epochs\n",
    "        #alpha, delta, phi, psi1, psi2, omega, inc, L = np.loadtxt(fn, usecols=(2,3,4,5,6,55,56,57), unpack=True)\n",
    "        #alpha, delta, phi, psi1, psi2, omega, inc = np.loadtxt(fn, usecols=(2,3,4,5,6,85,86), unpack=True)\n",
    "        data = (np.loadtxt(fn)).T\n",
    "        alpha = data[2]\n",
    "        delta = data[3]\n",
    "        phi = data[4]\n",
    "        psi1 = data[5]\n",
    "        psi2 = data[6]\n",
    "        #omega = data[55]\n",
    "        #inc = data[56]\n",
    "        L = data[55]\n",
    "        \n",
    "    except: \n",
    "        print (fn)\n",
    "        raise\n",
    "    psi = np.arctan(psi2/psi1)*180./np.pi\n",
    "    psi = np.where(L<0, psi+90, psi)\n",
    "    psi = np.where(psi>90, psi-180, psi)\n",
    "         \n",
    "    #psi = np.arctan(np.tan(psi*np.pi/180.))*180./np.pi\n",
    "    try:\n",
    "        n, bins[0] = np.histogram(alpha, nbins, range=a_r, normed=True)\n",
    "        alpha_b += n\n",
    "        n, bins[1] = np.histogram(delta, nbins, range=d_r, normed=True)\n",
    "        delta_b += n\n",
    "        n, bins[2] = np.histogram(phi, nbins, range=p_r, normed=True) \n",
    "        phi_b += n\n",
    "        n, bins[3] = np.histogram(psi, nbins, range=z_r, normed=True) \n",
    "        psi_b += n \n",
    "        #n, bins[4] = np.histogram(omega, nbins, range=o_r, normed=True) \n",
    "        #om_b += n\n",
    "        #n, bins[5] = np.histogram(inc, nbins, range=i_r, normed=True) \n",
    "        #inc_b += n\n",
    "        print(psi)\n",
    "    \n",
    "        #for ii in range(48):\n",
    "        #    n, bins_phi = np.histogram(data[ii+7], nbins, range=[80,100], normed=True)\n",
    "        #    phi0s_b[ii] += n\n",
    "\n",
    "    \n",
    "        n, xx,yy = np.histogram2d(alpha, delta, nbins, range=[a_r,d_r] , normed=True)\n",
    "        a_d_2d += n \n",
    "        n, xx,yy = np.histogram2d(alpha, phi, nbins, range=[a_r,p_r] , normed=True)\n",
    "        a_p_2d += n \n",
    "        n, xx,yy = np.histogram2d(alpha, psi, nbins, range=[a_r,z_r] , normed=True)\n",
    "        a_z_2d += n\n",
    "        #n, xx,yy = np.histogram2d(alpha, omega, nbins, range=[a_r,o_r] , normed=True)\n",
    "        #a_o_2d += n\n",
    "        #n, xx,yy = np.histogram2d(alpha, inc, nbins, range=[a_r,i_r] , normed=True)\n",
    "        #a_i_2d += n\n",
    "        #n, xx,yy = np.histogram2d(alpha, jump, nbins, range=[a_r,j_r] , normed=True)\n",
    "        #a_j_2d += n\n",
    "    \n",
    "        n, xx,yy = np.histogram2d(delta, phi, nbins, range=[d_r,p_r] , normed=True)\n",
    "        d_p_2d += n\n",
    "        n, xx,yy = np.histogram2d(delta, psi, nbins, range=[d_r,z_r] , normed=True)\n",
    "        d_z_2d += n\n",
    "        #n, xx,yy = np.histogram2d(delta, omega, nbins, range=[d_r,o_r] , normed=True)\n",
    "        #d_o_2d += n\n",
    "        #n, xx,yy = np.histogram2d(delta, inc, nbins, range=[d_r,i_r] , normed=True)\n",
    "        #d_i_2d += n\n",
    "        #n, xx,yy = np.histogram2d(delta, jump, nbins, range=[d_r,j_r] , normed=True)\n",
    "        #d_j_2d += n\n",
    "    \n",
    "        n, xx,yy = np.histogram2d(phi, psi, nbins, range=[p_r,z_r] , normed=True)\n",
    "        p_z_2d += n\n",
    "        #n, xx,yy = np.histogram2d(phi, omega, nbins, range=[p_r,o_r] , normed=True)\n",
    "        #p_o_2d += n\n",
    "        #n, xx,yy = np.histogram2d(phi, inc, nbins, range=[p_r,i_r] , normed=True)\n",
    "        #p_i_2d += n\n",
    "        #n, xx,yy = np.histogram2d(phi, jump, nbins, range=[p_r,j_r] , normed=True)\n",
    "        #p_j_2d += n\n",
    "    \n",
    "        #n, xx,yy = np.histogram2d(psi, omega, nbins, range=[z_r,o_r] , normed=True)\n",
    "        #z_o_2d += n\n",
    "        #n, xx,yy = np.histogram2d(psi, inc, nbins, range=[z_r,i_r] , normed=True)\n",
    "        #z_i_2d += n\n",
    "        #n, xx,yy = np.histogram2d(psi, jump, nbins, range=[z_r,j_r] , normed=True)\n",
    "        #z_j_2d += n\n",
    "    \n",
    "        #n, xx,yy = np.histogram2d(omega, inc, nbins, range=[o_r,i_r] , normed=True)\n",
    "        #o_i_2d += n\n",
    "        #n, xx,yy = np.histogram2d(omega, jump, nbins, range=[o_r,j_r] , normed=True)\n",
    "        #o_j_2d += n\n",
    "    \n",
    "        #n, xx,yy = np.histogram2d(inc, jump, nbins, range=[i_r,j_r] , normed=True)\n",
    "        #i_j_2d += n\n",
    "    except:\n",
    "        pass\n",
    "    \n",
    "    "
   ]
  },
  {
   "cell_type": "code",
   "execution_count": 3,
   "metadata": {
    "scrolled": false
   },
   "outputs": [
    {
     "name": "stdout",
     "output_type": "stream",
     "text": [
      "[ 0.36664012  3.9802002  16.52899875] 50.5442026981826\n",
      "[ 0.33739542  3.57060929 15.33581843] 44.8386009836141\n",
      "[0.11395991 0.60444144 2.70925679] 3.8939731497610466\n",
      "[ 0.23412942  2.29407387 10.1442524 ] 27.32440369306952\n",
      "[0.03826206 0.27066579 0.94648938] 2.285603277170873\n",
      "[0.03253487 0.23194663 1.11154971] 1.9878327394858637\n"
     ]
    },
    {
     "data": {
      "image/png": "[encoded data removed]",
      "text/plain": [
       "<Figure size 698.4x698.4 with 16 Axes>"
      ]
     },
     "metadata": {
      "needs_background": "light"
     },
     "output_type": "display_data"
    }
   ],
   "source": [
    "npar = 4\n",
    "max_n_ticks=5\n",
    "use_math_text=True\n",
    "scale_hist = False\n",
    "top_ticks=False\n",
    "labels = []\n",
    "labels.append(r'$\\alpha_{\\mathrm{MP}}$')\n",
    "labels.append(r'$\\delta$')\n",
    "labels.append(r'$\\Phi_0$')\n",
    "labels.append(r'$\\Delta \\psi_0$')\n",
    "#labels.append(r'$\\Omega_{\\mathrm{p}}$')\n",
    "#labels.append(r'$i$')\n",
    "#labels.append(r'$Jump$')\n",
    "label_kwargs = {'size': 15}\n",
    "levels = 1.0 - np.exp(-0.5 * np.arange(1., 3.1, 1.) ** 2)\n",
    "\n",
    "factor = 2.0           # size of one side of one panel\n",
    "lbdim = 0.5 * factor   # size of left/bottom margin\n",
    "trdim = 0.2 * factor   # size of top/right margin\n",
    "whspace = 0.05         # w/hspace size\n",
    "plotdim = factor * npar + factor * (npar - 1.) * whspace\n",
    "dim = lbdim + plotdim + trdim\n",
    "\n",
    "\n",
    "\n",
    "fig, axes = subplots(npar, npar, figsize=(dim, dim))\n",
    "\n",
    "for i in range(npar):\n",
    "    ax = axes[i,i]\n",
    "    \n",
    "    x0 = np.array(list(zip(bins[i][:-1], bins[i][1:]))).flatten() \n",
    "    if i==0: xdat = alpha_b; X = bins[0]; rangex = a_r\n",
    "    elif i==1: xdat = delta_b; X = bins[1]; rangex = d_r\n",
    "    elif i==2: xdat = phi_b; X = bins[2]; rangex = p_r\n",
    "    elif i==3: xdat = psi_b; X = bins[3]; rangex = z_r\n",
    "    elif i==4: xdat = om_b; X = bins[4]; rangex = o_r; ax.plot([2.237,2.237],[0, np.max(xdat)*2], color='red')\n",
    "    elif i==5: xdat = inc_b; X = bins[5]; rangex = i_r; ax.plot([43.7,43.7],[0, np.max(xdat)*2], color='red')\n",
    "    elif i==6: xdat = jump_b; X = bins[6]; rangex = j_r\n",
    "    y0 = np.array(list(zip(xdat, xdat))).flatten()\n",
    "    #print x0, y0\n",
    "    ax.plot(x0, y0, 'k')\n",
    "    ax.set_yticklabels([])\n",
    "    ax.xaxis.set_major_locator(MaxNLocator(max_n_ticks, prune=\"lower\"))\n",
    "    \n",
    "    \n",
    "    # Set up the axes.\n",
    "    ax.set_xlim(rangex)\n",
    "    if scale_hist:\n",
    "        maxn = np.max(xdat)\n",
    "        ax.set_ylim(-0.1 * maxn, 1.1 * maxn)\n",
    "    else:\n",
    "        ax.set_ylim(0, 1.1 * np.max(xdat))\n",
    "    ax.set_yticklabels([])\n",
    "    ax.xaxis.set_major_locator(MaxNLocator(max_n_ticks, prune=\"lower\"))\n",
    "\n",
    "    if i < npar - 1:\n",
    "        if top_ticks:\n",
    "            ax.xaxis.set_ticks_position(\"top\")\n",
    "            [l.set_rotation(45) for l in ax.get_xticklabels()]\n",
    "        else:\n",
    "            ax.set_xticklabels([])\n",
    "    else:\n",
    "        [l.set_rotation(45) for l in ax.get_xticklabels()]\n",
    "        if labels is not None:\n",
    "            ax.set_xlabel(labels[i], label_kwargs)\n",
    "            ax.xaxis.set_label_coords(0.5, -0.3)\n",
    "\n",
    "        # use MathText for axes ticks\n",
    "        ax.xaxis.set_major_formatter(ScalarFormatter(useMathText=use_math_text))\n",
    "\n",
    "\n",
    "    \n",
    "    for j in range(npar):\n",
    "        #print i,j\n",
    "        ax = axes[i, j]\n",
    "        if j > i:\n",
    "            ax.set_frame_on(False)\n",
    "            ax.set_xticks([])\n",
    "            ax.set_yticks([])\n",
    "            continue\n",
    "        elif i==j: continue    \n",
    "            \n",
    "            \n",
    "        ax.xaxis.set_major_locator(MaxNLocator(max_n_ticks, prune=\"lower\"))\n",
    "        ax.yaxis.set_major_locator(MaxNLocator(max_n_ticks, prune=\"lower\"))    \n",
    " \n",
    "\n",
    "        if i < npar - 1:\n",
    "            ax.set_xticklabels([])\n",
    "        else:\n",
    "            [l.set_rotation(45) for l in ax.get_xticklabels()]\n",
    "            if labels is not None:\n",
    "                ax.set_xlabel(labels[j], label_kwargs)\n",
    "                ax.xaxis.set_label_coords(0.5, -0.3)\n",
    "\n",
    "            # use MathText for axes ticks\n",
    "            ax.xaxis.set_major_formatter(\n",
    "                ScalarFormatter(useMathText=use_math_text))\n",
    "\n",
    "        if j > 0:\n",
    "            ax.set_yticklabels([])\n",
    "        else:\n",
    "            [l.set_rotation(45) for l in ax.get_yticklabels()]\n",
    "            if labels is not None:\n",
    "                ax.set_ylabel(labels[i], label_kwargs)\n",
    "                ax.yaxis.set_label_coords(-0.3, 0.5)\n",
    "\n",
    "            # use MathText for axes ticks\n",
    "            ax.yaxis.set_major_formatter(\n",
    "                ScalarFormatter(useMathText=use_math_text))\n",
    "            \n",
    "            \n",
    "        #Now plot the 2-D Histogram\n",
    "                \n",
    "        if j==0: Y = bins[0]; rangey = a_r\n",
    "        elif j==1: Y = bins[1]; rangey = d_r\n",
    "        elif j==2: Y = bins[2]; rangey = p_r\n",
    "        elif j==3: Y = bins[3]; rangey = z_r\n",
    "        elif j==4: Y = bins[4] ; rangey = o_r\n",
    "        elif j==5: Y = bins[5] ; rangey = i_r\n",
    "        elif j==6: Y = bins[6]; rangey = j_r\n",
    "            \n",
    "        if j==0 and i==1: H = a_d_2d\n",
    "        elif j==0 and i==2: H = a_p_2d    \n",
    "        elif j==0 and i==3: H = a_z_2d     \n",
    "        elif j==0 and i==4: H = a_o_2d\n",
    "        elif j==0 and i==5: H = a_i_2d   \n",
    "        elif j==0 and i==6: H = a_j_2d\n",
    "        elif j==1 and i==2: H = d_p_2d     \n",
    "        elif j==1 and i==3: H = d_z_2d \n",
    "        elif j==1 and i==4: H = d_o_2d\n",
    "        elif j==1 and i==5: H = d_i_2d  \n",
    "        elif j==1 and i==6: H = d_j_2d\n",
    "        elif j==2 and i==3: H = p_z_2d    \n",
    "        elif j==2 and i==4: H = p_o_2d\n",
    "        elif j==2 and i==5: H = p_i_2d \n",
    "        elif j==2 and i==6: H = p_j_2d\n",
    "        elif j==3 and i==4: H = z_o_2d\n",
    "        elif j==3 and i==5: H = z_i_2d\n",
    "        elif j==3 and i==6: H = z_j_2d\n",
    "        elif j==4 and i==5:\n",
    "                H = o_i_2d\n",
    "                ax.plot([2.237,2.237],[0, 100], color='red') \n",
    "                ax.plot([0,5],[43.7, 43.7], color='red')\n",
    "        elif j==4 and i==6: H = o_j_2d\n",
    "        elif j==5 and i==6: H = i_j_2d\n",
    "\n",
    "        #\"\"\"    \n",
    "        # Compute the density levels.\n",
    "        Hflat = H.flatten()\n",
    "        inds = np.argsort(Hflat)[::-1]\n",
    "        Hflat = Hflat[inds]\n",
    "        sm = np.cumsum(Hflat)\n",
    "        sm /= sm[-1]\n",
    "        V = np.empty(len(levels))\n",
    "        #print V\n",
    "        for x, v0 in enumerate(levels):\n",
    "            try:\n",
    "                V[x] = Hflat[sm <= v0][-1]\n",
    "            except:\n",
    "                V[x] = Hflat[0]\n",
    "        V.sort()\n",
    "        m = np.diff(V) == 0\n",
    "        #if np.any(m):\n",
    "        #     logging.warning(\"Too few points to create valid contours\")\n",
    "        while np.any(m):\n",
    "            V[np.where(m)[0][0]] *= 1.0 - 1e-4\n",
    "            m = np.diff(V) == 0\n",
    "        V.sort()\n",
    "        print (V, np.max(H))\n",
    "            \n",
    "        #\"\"\"\n",
    "        # Compute the bin centers.\n",
    "        X1, Y1 = 0.5 * (X[1:] + X[:-1]), 0.5 * (Y[1:] + Y[:-1])\n",
    "\n",
    "        # Extend the array for the sake of the contours at the plot edges.\n",
    "        H2 = H.min() + np.zeros((H.shape[0] + 4, H.shape[1] + 4))\n",
    "        H2[2:-2, 2:-2] = H\n",
    "        H2[2:-2, 1] = H[:, 0]\n",
    "        H2[2:-2, -2] = H[:, -1]\n",
    "        H2[1, 2:-2] = H[0]\n",
    "        H2[-2, 2:-2] = H[-1]\n",
    "        H2[1, 1] = H[0, 0]\n",
    "        H2[1, -2] = H[0, -1]\n",
    "        H2[-2, 1] = H[-1, 0]\n",
    "        H2[-2, -2] = H[-1, -1]\n",
    "        X2 = np.concatenate([\n",
    "            X1[0] + np.array([-2, -1]) * np.diff(X1[:2]),\n",
    "            X1,\n",
    "            X1[-1] + np.array([1, 2]) * np.diff(X1[-2:]),\n",
    "        ])\n",
    "        Y2 = np.concatenate([\n",
    "            Y1[0] + np.array([-2, -1]) * np.diff(Y1[:2]),\n",
    "            Y1,\n",
    "            Y1[-1] + np.array([1, 2]) * np.diff(Y1[-2:]),\n",
    "        ])\n",
    "        #\"\"\"\n",
    "        #print X.shape, Y.shape\n",
    "        #print X1.shape, Y1.shape\n",
    "        #print X2.shape, Y2.shape, H2.T.shape\n",
    "        #print i,j, \n",
    "        #print rangex, rangey\n",
    "        #print X2,Y2\n",
    "        #print \" \"\n",
    "        ax.contour(Y2, X2, H2.T, V, antialiased=True, colors='k')\n",
    "        \n",
    "        ax.set_xlim(rangey)\n",
    "        ax.set_ylim(rangex)\n",
    "        \n",
    "        ax.imshow(H.T, extent=(rangey[0],rangey[1],rangex[0],rangex[1]),aspect='auto', origin='lower',cmap=get_cmap('YlOrRd'))\n",
    "        #show()\n",
    "\n",
    "#savefig('1906_posterior_31_epochs_no-jump.pdf', bbox_inches='tight')\n",
    "#savefig('bootstrap.eps',bbox_inches='tight')\n",
    "show()    \n"
   ]
  },
  {
   "cell_type": "code",
   "execution_count": 32,
   "metadata": {
    "scrolled": true
   },
   "outputs": [
    {
     "name": "stdout",
     "output_type": "stream",
     "text": [
      "99.4064140574\n",
      "Alpha #0: 99.41 +/- -0.14 0.17 (1-sig)\n",
      "99.4038531453\n",
      "Alpha #0: 99.40 +/- -0.34 0.35 (2-sig)\n",
      "103.99574053\n",
      "Delta #0: 104.00 +/- -7.75 8.50 (1-sig)\n",
      "104.027272205\n",
      "Delta #0: 104.03 +/- -17.78 17.85 (2-sig)\n",
      "248.775058559\n",
      "Phase #0: 248.78 +/- -7.53 9.35 (1-sig)\n",
      "249.055206682\n",
      "Phase #0: 249.06 +/- -15.93 19.07 (2-sig)\n",
      "-62.2737986891\n",
      "29.2949615927\n",
      "Psi #0: -62.27 +/- -10.85 13.06 (1-sig)\n",
      "Psi #1: 29.29 +/- -9.61 11.49 (1-sig)\n",
      "-62.2594941865\n",
      "28.7243208091\n",
      "Psi #0: -62.26 +/- -24.93 24.29 (2-sig)\n",
      "Psi #1: 28.72 +/- -25.91 21.90 (2-sig)\n",
      "2.16860229882\n",
      "Omega #0: 2.17 +/- -0.08 0.10 (1-sig)\n",
      "2.17147587783\n",
      "Omega #0: 2.17 +/- -0.19 0.22 (2-sig)\n",
      "44.452573179\n",
      "Inclination #0: 44.45 +/- -2.23 3.05 (1-sig)\n",
      "44.7462355246\n",
      "Inclination #0: 44.75 +/- -4.63 6.27 (2-sig)\n"
     ]
    }
   ],
   "source": [
    "# alpha\n",
    "level1, level2, level3 = read_TN.getsigmalevels(alpha_b)\n",
    "modes = read_TN.find_mode(alpha_b, bins[0], level1)\n",
    "for ii, md in enumerate(modes):\n",
    "                print \"Alpha #%d: %.2f +/- %.2f %.2f (1-sig)\"%(ii, md[0], md[1], md[2])\n",
    "modes = read_TN.find_mode(alpha_b, bins[0], level2)\n",
    "for ii, md in enumerate(modes):\n",
    "                print \"Alpha #%d: %.2f +/- %.2f %.2f (2-sig)\"%(ii, md[0], md[1], md[2])\n",
    "#modes = read_TN.find_mode(alpha_b, bins[0], level3)        \n",
    "#for ii, md in enumerate(modes):\n",
    "#                print \"Alpha #%d: %.2f +/- %.2f %.2f (3-sig)\"%(ii, md[0], md[1], md[2])    \n",
    "\n",
    "# delta\n",
    "level1, level2, level3 = read_TN.getsigmalevels(delta_b)\n",
    "modes = read_TN.find_mode(delta_b, bins[1], level1)\n",
    "for ii, md in enumerate(modes):\n",
    "                print \"Delta #%d: %.2f +/- %.2f %.2f (1-sig)\"%(ii, md[0], md[1], md[2])\n",
    "modes = read_TN.find_mode(delta_b, bins[1], level2)\n",
    "for ii, md in enumerate(modes):\n",
    "                print \"Delta #%d: %.2f +/- %.2f %.2f (2-sig)\"%(ii, md[0], md[1], md[2])\n",
    "#modes = read_TN.find_mode(delta_b, bins[1], level3)        \n",
    "#for ii, md in enumerate(modes):\n",
    "#                print \"Delta #%d: %.2f +/- %.2f %.2f (3-sig)\"%(ii, md[0], md[1], md[2])  \n",
    "        \n",
    "# Phi0\n",
    "level1, level2, level3 = read_TN.getsigmalevels(phi_b)\n",
    "modes = read_TN.find_mode(phi_b, bins[2], level1)\n",
    "for ii, md in enumerate(modes):\n",
    "                print \"Phase #%d: %.2f +/- %.2f %.2f (1-sig)\"%(ii, md[0], md[1], md[2])\n",
    "modes = read_TN.find_mode(phi_b, bins[2], level2)\n",
    "for ii, md in enumerate(modes):\n",
    "                print \"Phase #%d: %.2f +/- %.2f %.2f (2-sig)\"%(ii, md[0], md[1], md[2])\n",
    "#modes = read_TN.find_mode(phi_b, bins[2], level3)        \n",
    "#for ii, md in enumerate(modes):\n",
    "#                print \"Phase #%d: %.2f +/- %.2f %.2f (3-sig)\"%(ii, md[0], md[1], md[2])            \n",
    "\n",
    "# Psi0\n",
    "level1, level2, level3 = read_TN.getsigmalevels(psi_b)\n",
    "modes = read_TN.find_mode(psi_b, bins[3], level1)\n",
    "for ii, md in enumerate(modes):\n",
    "                print \"Psi #%d: %.2f +/- %.2f %.2f (1-sig)\"%(ii, md[0], md[1], md[2])\n",
    "modes = read_TN.find_mode(psi_b, bins[3], level2)\n",
    "for ii, md in enumerate(modes):\n",
    "                print \"Psi #%d: %.2f +/- %.2f %.2f (2-sig)\"%(ii, md[0], md[1], md[2])\n",
    "#modes = read_TN.find_mode(psi_b, bins[3], level3)        \n",
    "#for ii, md in enumerate(modes):\n",
    "#                print \"Psi #%d: %.2f +/- %.2f %.2f (3-sig)\"%(ii, md[0], md[1], md[2])           \n",
    "        \n",
    "# Precession rate \n",
    "level1, level2, level3 = read_TN.getsigmalevels(om_b)\n",
    "modes = read_TN.find_mode(om_b, bins[4], level1)\n",
    "for ii, md in enumerate(modes):\n",
    "                print \"Omega #%d: %.2f +/- %.2f %.2f (1-sig)\"%(ii, md[0], md[1], md[2])\n",
    "modes = read_TN.find_mode(om_b, bins[4], level2)\n",
    "for ii, md in enumerate(modes):\n",
    "                print \"Omega #%d: %.2f +/- %.2f %.2f (2-sig)\"%(ii, md[0], md[1], md[2])\n",
    "#modes = read_TN.find_mode(om_b, bins[4], level3)        \n",
    "#for ii, md in enumerate(modes):\n",
    "#                print \"Omega #%d: %.2f +/- %.2f %.2f (3-sig)\"%(ii, md[0], md[1], md[2])        \n",
    "        \n",
    "# Inclination \n",
    "level1, level2, level3 = read_TN.getsigmalevels(inc_b)\n",
    "modes = read_TN.find_mode(inc_b, bins[5], level1)\n",
    "for ii, md in enumerate(modes):\n",
    "                print \"Inclination #%d: %.2f +/- %.2f %.2f (1-sig)\"%(ii, md[0], md[1], md[2])\n",
    "modes = read_TN.find_mode(inc_b, bins[5], level2)\n",
    "for ii, md in enumerate(modes):\n",
    "                print \"Inclination #%d: %.2f +/- %.2f %.2f (2-sig)\"%(ii, md[0], md[1], md[2])\n",
    "#modes = read_TN.find_mode(inc_b, bins[5], level3)\n",
    "#for ii, md in enumerate(modes):\n",
    "#                print \"Inclination #%d: %.2f +/- %.2f %.2f (3-sig)\"%(ii, md[0], md[1], md[2])"
   ]
  },
  {
   "cell_type": "code",
   "execution_count": 34,
   "metadata": {
    "scrolled": false
   },
   "outputs": [
    {
     "name": "stdout",
     "output_type": "stream",
     "text": [
      "99.41 +/- -0.17 0.16\n",
      "104.25 +/- -8.54 8.60\n",
      "249.48 +/- -8.59 8.94\n",
      "29.01 +/- -12.45 11.95\n",
      "2.17 +/- -0.10 0.11\n",
      "45.02 +/- -2.63 3.11\n"
     ]
    }
   ],
   "source": [
    "import percentiles as pe\n",
    "#print (bins[4][:-1]+bins[4][1:])/2.\n",
    "#print len((bins[4][:-1]+bins[4][1:])/2.)\n",
    "#print om_b\n",
    "#plot(np.cumsum(om_b)/np.max(np.cumsum(om_b)))\n",
    "#plot(bins[4])\n",
    "\n",
    "for i in range(0,6):\n",
    "  try:  \n",
    "    if i==0: dat = alpha_b\n",
    "    elif i==1: dat = delta_b\n",
    "    elif i==2: dat = phi_b\n",
    "    elif i==3: dat = psi_b        \n",
    "    elif i==4: dat = om_b\n",
    "    elif i==5: dat = inc_b\n",
    "    median, low1, high1, low2, high2, low3, high3 = pe.percentiles((bins[i][:-1]+bins[i][1:])/2. , np.cumsum(dat)/np.max(np.cumsum(dat)))\n",
    "    print \"%.2f +/- %.2f %.2f\"%(median, low1-median, high1-median)\n",
    "\n",
    "  except:\n",
    "    raise"
   ]
  },
  {
   "cell_type": "code",
   "execution_count": 33,
   "metadata": {},
   "outputs": [
    {
     "name": "stdout",
     "output_type": "stream",
     "text": [
      "90.08 +/- -0.29 0.26\n",
      "90.08 +/- -0.35 0.35\n",
      "90.09 +/- -0.40 0.41\n",
      "90.11 +/- -0.43 0.43\n",
      "90.12 +/- -0.45 0.47\n",
      "90.17 +/- -0.48 0.49\n",
      "90.15 +/- -0.46 0.50\n",
      "89.65 +/- -0.43 0.46\n",
      "90.17 +/- -0.52 0.57\n",
      "90.19 +/- -0.58 0.63\n",
      "89.70 +/- -0.56 0.60\n",
      "89.72 +/- -0.56 0.58\n",
      "89.71 +/- -0.62 0.66\n",
      "89.77 +/- -0.66 0.70\n",
      "89.79 +/- -0.53 0.55\n",
      "89.96 +/- -0.24 0.24\n",
      "89.95 +/- -0.24 0.24\n",
      "89.95 +/- -0.23 0.23\n",
      "89.94 +/- -0.19 0.21\n",
      "89.94 +/- -0.21 0.22\n",
      "89.95 +/- -0.24 0.24\n",
      "89.94 +/- -0.19 0.20\n",
      "89.94 +/- -0.20 0.20\n",
      "90.19 +/- -0.33 0.37\n",
      "90.26 +/- -0.38 0.39\n",
      "89.80 +/- -0.38 0.93\n",
      "89.52 +/- -0.94 0.52\n",
      "90.04 +/- -0.44 0.58\n",
      "89.93 +/- -0.28 0.38\n",
      "90.34 +/- -0.40 0.28\n",
      "90.08 +/- -0.19 1.28\n",
      "89.90 +/- -0.22 0.22\n",
      "89.93 +/- -0.21 0.20\n",
      "89.91 +/- -0.21 0.20\n",
      "89.90 +/- -0.22 0.21\n",
      "89.96 +/- -0.26 0.24\n",
      "89.97 +/- -0.28 0.26\n",
      "89.96 +/- -0.26 0.26\n",
      "89.98 +/- -0.26 0.25\n",
      "90.00 +/- -0.28 0.28\n",
      "90.00 +/- -0.30 0.28\n",
      "89.95 +/- -0.30 0.29\n",
      "90.00 +/- -0.30 0.30\n",
      "90.06 +/- -0.35 0.32\n",
      "90.04 +/- -0.34 0.34\n",
      "90.04 +/- -0.37 0.37\n",
      "90.07 +/- -0.36 0.36\n",
      "90.07 +/- -0.38 0.36\n"
     ]
    }
   ],
   "source": [
    "pf = open(\"phi0s.txt\", 'w')\n",
    "for i in range(0,48):\n",
    "    median, low1, high1, low2, high2, low3, high3 = pe.percentiles((bins_phi[:-1]+bins_phi[1:])/2. , np.cumsum(phi0s_b[i])/np.max(np.cumsum(phi0s_b[i])))\n",
    "    print \"%.2f +/- %.2f %.2f\"%(median, low1-median, high1-median)\n",
    "    pf.write(\"%d %.2f %.2f %.2f %.2f %.2f\\n\"%(i, median, low1-median, high1-median, low2-median, high2-median))\n",
    "pf.close()"
   ]
  },
  {
   "cell_type": "code",
   "execution_count": null,
   "metadata": {},
   "outputs": [],
   "source": []
  }
 ],
 "metadata": {
  "kernelspec": {
   "display_name": "Python 2",
   "language": "python",
   "name": "python2"
  },
  "language_info": {
   "codemirror_mode": {
    "name": "ipython",
    "version": 3
   },
   "file_extension": ".py",
   "mimetype": "text/x-python",
   "name": "python",
   "nbconvert_exporter": "python",
   "pygments_lexer": "ipython3",
   "version": "3.7.0"
  },
  "widgets": {
   "state": {
    "caebeaa800a24f8aa26fad7a6e134dd6": {
     "views": [
      {
       "cell_index": 1
      }
     ]
    }
   },
   "version": "1.2.0"
  }
 },
 "nbformat": 4,
 "nbformat_minor": 1
}
